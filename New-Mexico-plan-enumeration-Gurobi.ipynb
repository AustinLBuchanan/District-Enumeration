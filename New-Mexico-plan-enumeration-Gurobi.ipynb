{
 "cells": [
  {
   "cell_type": "code",
   "execution_count": 1,
   "metadata": {},
   "outputs": [],
   "source": [
    "from gerrychain import Graph"
   ]
  },
  {
   "cell_type": "code",
   "execution_count": 2,
   "metadata": {},
   "outputs": [],
   "source": [
    "# Read New Mexico county graph from the json file \"OK_county.json\"\n",
    "filename = 'NM_county.json'\n",
    "\n",
    "# GerryChain has a built-in function for reading graphs of this type:\n",
    "G = Graph.from_json( filename )"
   ]
  },
  {
   "cell_type": "code",
   "execution_count": 3,
   "metadata": {},
   "outputs": [
    {
     "name": "stdout",
     "output_type": "stream",
     "text": [
      "Using L = 682962 and U = 689824 and k = 3\n"
     ]
    }
   ],
   "source": [
    "# Let's impose a 1% population deviation (+/- 0.5%)\n",
    "deviation = 0.01\n",
    "\n",
    "import math\n",
    "k = 3          # number of districts\n",
    "total_population = sum(G.nodes[node]['TOTPOP'] for node in G.nodes)\n",
    "\n",
    "L = math.ceil((1-deviation/2)*total_population/k)\n",
    "U = math.floor((1+deviation/2)*total_population/k)\n",
    "print(\"Using L =\",L,\"and U =\",U,\"and k =\",k)"
   ]
  },
  {
   "cell_type": "code",
   "execution_count": 4,
   "metadata": {},
   "outputs": [],
   "source": [
    "# A nice ordering of New Mexico's vertices (counties)\n",
    "ordering = [18, 19, 26, 22, 14, 0, 1, 2, 3, 4, 5, 6, 7, 8, 9, 10, 11, 12, 13, 15, 16, 17, 20, 21, 23, 24, 25, 27, 28, 29, 30, 31, 32]"
   ]
  },
  {
   "cell_type": "code",
   "execution_count": 5,
   "metadata": {},
   "outputs": [
    {
     "name": "stdout",
     "output_type": "stream",
     "text": [
      "Academic license - for non-commercial use only - expires 2021-06-27\n",
      "Using license file C:\\Users\\buchanan\\gurobi.lic\n"
     ]
    }
   ],
   "source": [
    "import gurobipy as gp\n",
    "from gurobipy import GRB\n",
    "\n",
    "# create model \n",
    "m = gp.Model()\n",
    "\n",
    "# create variables\n",
    "m._X = m.addVars(G.nodes, k, vtype=GRB.BINARY) # x[i,j] equals one when county i is assigned to district j"
   ]
  },
  {
   "cell_type": "code",
   "execution_count": 6,
   "metadata": {},
   "outputs": [],
   "source": [
    "# null objective \n",
    "m.setObjective( 0.0, GRB.MINIMIZE )"
   ]
  },
  {
   "cell_type": "code",
   "execution_count": 7,
   "metadata": {},
   "outputs": [],
   "source": [
    "# add constraints saying that each county i is assigned to one district\n",
    "m.addConstrs( gp.quicksum(m._X[i,j] for j in range(k)) == 1 for i in G.nodes)\n",
    "\n",
    "# add constraints saying that each district has population at least L and at most U\n",
    "m.addConstrs( gp.quicksum( G.nodes[i]['TOTPOP'] * m._X[i,j] for i in G.nodes) >= L for j in range(k) )\n",
    "m.addConstrs( gp.quicksum( G.nodes[i]['TOTPOP'] * m._X[i,j] for i in G.nodes) <= U for j in range(k) )\n",
    "\n",
    "m.update()"
   ]
  },
  {
   "cell_type": "code",
   "execution_count": 8,
   "metadata": {},
   "outputs": [],
   "source": [
    "# separation routines\n",
    "import networkx as nx\n",
    "\n",
    "def find_fischetti_separator(DG, component, b):\n",
    "    neighbors_component = [False for i in DG.nodes]\n",
    "    for i in nx.node_boundary(DG, component, None):\n",
    "        neighbors_component[i] = True\n",
    "    \n",
    "    visited = [False for i in DG.nodes]\n",
    "    child = [b]\n",
    "    visited[b] = True\n",
    "    \n",
    "    while child:\n",
    "        parent = child\n",
    "        child = []\n",
    "        for i in parent:\n",
    "            if not neighbors_component[i]:\n",
    "                for j in DG.neighbors(i):\n",
    "                    if not visited[j]:\n",
    "                        child.append(j)\n",
    "                        visited[j] = True\n",
    "    \n",
    "    C = [ i for i in DG.nodes if neighbors_component[i] and visited[i] ]\n",
    "    return C\n",
    "\n",
    "\n",
    "def lcut_separation_generic(m, where):\n",
    "    if where == GRB.Callback.MIPSOL:\n",
    "        xval = m.cbGetSolution(m._X)\n",
    "        DG = m._DG\n",
    "        U = m._U\n",
    "        population = m._population\n",
    "        k = m._k\n",
    "        \n",
    "        for j in range(k):\n",
    "            \n",
    "            # vertices assigned to this district (label j)\n",
    "            S = [v for v in DG.nodes if xval[v,j] > 0.5]\n",
    "            \n",
    "            # what shall we deem as the \"root\" of this district? call it b\n",
    "            max_cp = 0\n",
    "            max_component = []\n",
    "\n",
    "            for component in nx.strongly_connected_components(DG.subgraph(S)):\n",
    "                if max_cp < sum(population[v] for v in component):\n",
    "                    max_cp = sum(population[v] for v in component)\n",
    "                    max_component = component\n",
    "\n",
    "            # find some vertex \"b\" that has largest population in this component\n",
    "            maxpb = max(population[v] for v in max_component)\n",
    "            maxpb_vertices = [ v for v in max_component if population[v] == maxpb ]\n",
    "            b = maxpb_vertices[0]  \n",
    "            \n",
    "            for component in nx.strongly_connected_components(DG.subgraph(S)):\n",
    "                \n",
    "                if b in component: \n",
    "                    continue\n",
    "                \n",
    "                # find some vertex \"a\" that has largest population in this component\n",
    "                maxp = max(population[v] for v in component)\n",
    "                maxp_vertices = [ v for v in component if population[v] == maxp ]\n",
    "                a = maxp_vertices[0]  \n",
    "                    \n",
    "                # get minimal a,b-separator\n",
    "                C = find_fischetti_separator(DG, component, b)\n",
    "                \n",
    "                # make it a minimal *length-U* a,b-separator\n",
    "                for (u,v) in DG.edges():\n",
    "                    DG[u][v]['lcutweight'] = population[u]   \n",
    "                    \n",
    "                # \"remove\" C from graph\n",
    "                for c in C:\n",
    "                    for node in DG.neighbors(c):\n",
    "                        DG[c][node]['lcutweight'] = U+1\n",
    "                \n",
    "                # is C\\{c} a length-U a,b-separator still? If so, remove c from C\n",
    "                drop_from_C = []\n",
    "                for c in C:\n",
    "                    \n",
    "                    # temporarily add c back to graph (i.e., \"remove\" c from cut C)\n",
    "                    for node in DG.neighbors(c):\n",
    "                        DG[c][node]['lcutweight'] = population[c]\n",
    "                    \n",
    "                    # what is distance from a to b in G-C ?\n",
    "                    distance_from_a = nx.single_source_dijkstra_path_length(DG, a, weight='lcutweight')\n",
    "                    \n",
    "                    if distance_from_a[b] + population[b] > U:\n",
    "                        # c was not needed in the cut C. delete c from C\n",
    "                        drop_from_C.append(c)\n",
    "                    else:\n",
    "                        # keep c in C. revert arc weights back to \"infinity\"\n",
    "                        for node in DG.neighbors(c):\n",
    "                            DG[c][node]['lcutweight'] = U+1\n",
    "                    \n",
    "                # add lazy cut\n",
    "                minC = [c for c in C if c not in drop_from_C ]\n",
    "                \n",
    "                m.cbLazy( m._X[a,j] + m._X[b,j] <= 1 + gp.quicksum(m._X[c,j] for c in minC) )"
   ]
  },
  {
   "cell_type": "code",
   "execution_count": 9,
   "metadata": {},
   "outputs": [
    {
     "name": "stdout",
     "output_type": "stream",
     "text": [
      "Changed value of parameter lazyConstraints to 1\n",
      "   Prev: 0  Min: 0  Max: 1  Default: 0\n"
     ]
    }
   ],
   "source": [
    "# set LCUT callback\n",
    "m.Params.lazyConstraints = 1\n",
    "m._population = [G.nodes[i]['TOTPOP'] for i in G.nodes]\n",
    "m._k = k\n",
    "m._U = U\n",
    "m._DG = nx.DiGraph(G) # bidirected version of G\n",
    "m._callback = lcut_separation_generic "
   ]
  },
  {
   "cell_type": "code",
   "execution_count": 10,
   "metadata": {},
   "outputs": [
    {
     "name": "stdout",
     "output_type": "stream",
     "text": [
      "Changed value of parameter PoolSearchMode to 2\n",
      "   Prev: 0  Min: 0  Max: 2  Default: 0\n",
      "Changed value of parameter PoolSolutions to 1000\n",
      "   Prev: 10  Min: 1  Max: 2000000000  Default: 10\n",
      "Gurobi Optimizer version 9.1.1 build v9.1.1rc0 (win64)\n",
      "Thread count: 4 physical cores, 8 logical processors, using up to 8 threads\n",
      "Optimize a model with 39 rows, 99 columns and 297 nonzeros\n",
      "Model fingerprint: 0x5dfc4775\n",
      "Variable types: 0 continuous, 99 integer (99 binary)\n",
      "Coefficient statistics:\n",
      "  Matrix range     [1e+00, 7e+05]\n",
      "  Objective range  [0e+00, 0e+00]\n",
      "  Bounds range     [1e+00, 1e+00]\n",
      "  RHS range        [1e+00, 7e+05]\n",
      "Presolve removed 16 rows and 34 columns\n",
      "Presolve time: 0.00s\n",
      "Presolved: 23 rows, 65 columns, 209 nonzeros\n",
      "Variable types: 0 continuous, 65 integer (65 binary)\n",
      "\n",
      "Root relaxation: objective 0.000000e+00, 27 iterations, 0.00 seconds\n",
      "\n",
      "    Nodes    |    Current Node    |     Objective Bounds      |     Work\n",
      " Expl Unexpl |  Obj  Depth IntInf | Incumbent    BestBd   Gap | It/Node Time\n",
      "\n",
      "     0     0    0.00000    0    3          -    0.00000      -     -    0s\n",
      "     0     0    0.00000    0    3          -    0.00000      -     -    0s\n",
      "     0     0    0.00000    0    8          -    0.00000      -     -    0s\n",
      "     0     0    0.00000    0    8          -    0.00000      -     -    0s\n",
      "     0     0    0.00000    0    3          -    0.00000      -     -    0s\n",
      "     0     0    0.00000    0    3          -    0.00000      -     -    0s\n",
      "     0     0    0.00000    0    8          -    0.00000      -     -    0s\n",
      "     0     0    0.00000    0    8          -    0.00000      -     -    0s\n",
      "     0     2    0.00000    0    8          -    0.00000      -     -    0s\n",
      "* 2644   344              15       0.0000000    0.00000  0.00%   2.9    0s\n",
      "\n",
      "Optimal solution found at node 2676 - now completing solution pool...\n",
      "\n",
      "    Nodes    |    Current Node    |      Pool Obj. Bounds     |     Work\n",
      "             |                    |   Worst                   |\n",
      " Expl Unexpl |  Obj  Depth IntInf | Incumbent    BestBd   Gap | It/Node Time\n",
      "\n",
      "  2676   362    0.00000    9   18          -    0.00000      -   2.9    0s\n",
      "\n",
      "Cutting planes:\n",
      "  Gomory: 1\n",
      "  Cover: 179\n",
      "  MIR: 1\n",
      "  Inf proof: 10\n",
      "  RLT: 1\n",
      "  Lazy constraints: 514\n",
      "\n",
      "Explored 12415 nodes (42348 simplex iterations) in 3.64 seconds\n",
      "Thread count was 8 (of 8 available processors)\n",
      "\n",
      "Solution count 365: 0 0 0 ... 0\n",
      "No other solutions better than 1e+100\n",
      "\n",
      "Optimal solution found (tolerance 1.00e-04)\n",
      "Best objective 0.000000000000e+00, best bound 0.000000000000e+00, gap 0.0000%\n",
      "\n",
      "User-callback calls 25751, time in user-callback 2.49 sec\n"
     ]
    }
   ],
   "source": [
    "# Do some (safe) fixing to avoid symmetric solutions\n",
    "\n",
    "# fix the first vertex in the ordering to first district\n",
    "m._X[ordering[0],0].lb = 1\n",
    "\n",
    "# fix the second vertex in the ordering to the second district\n",
    "m._X[ordering[1],1].lb = 1\n",
    "\n",
    "# Find the N best solutions\n",
    "N = 1000\n",
    "m.Params.PoolSearchMode = 2 # finds N best solutions\n",
    "m.Params.PoolSolutions = N\n",
    "\n",
    "# solve IP model\n",
    "m.optimize(m._callback)"
   ]
  },
  {
   "cell_type": "code",
   "execution_count": 11,
   "metadata": {},
   "outputs": [
    {
     "name": "stdout",
     "output_type": "stream",
     "text": [
      "The number of cut edges is 0.0\n",
      "District 0 has population 685656 and contains counties ['Guadalupe', 'Torrance', 'De Baca', 'Bernalillo']\n",
      "District 1 has population 687790 and contains counties ['Grant', 'Hidalgo', 'Cibola', 'Los Alamos', 'Doña Ana', 'Valencia', 'Catron', 'Sandoval', 'Santa Fe', 'Socorro', 'Luna']\n",
      "District 2 has population 685733 and contains counties ['Harding', 'Sierra', 'Lea', 'Otero', 'San Juan', 'Roosevelt', 'Curry', 'Taos', 'Eddy', 'Quay', 'Colfax', 'Chaves', 'Rio Arriba', 'San Miguel', 'Lincoln', 'McKinley', 'Mora', 'Union']\n"
     ]
    }
   ],
   "source": [
    "print(\"The number of cut edges is\",m.objval)\n",
    "\n",
    "# retrieve the districts and their populations\n",
    "districts = [ [i for i in G.nodes if m._X[i,j].x > 0.5] for j in range(k)]\n",
    "district_counties = [ [ G.nodes[i][\"NAME10\"] for i in districts[j] ] for j in range(k)]\n",
    "district_populations = [ sum(G.nodes[i][\"TOTPOP\"] for i in districts[j]) for j in range(k) ]\n",
    "\n",
    "# print district info\n",
    "for j in range(k):\n",
    "    print(\"District\",j,\"has population\",district_populations[j],\"and contains counties\",district_counties[j])"
   ]
  },
  {
   "cell_type": "code",
   "execution_count": null,
   "metadata": {},
   "outputs": [],
   "source": [
    "# Let's draw it on a map\n",
    "import geopandas as gpd"
   ]
  },
  {
   "cell_type": "code",
   "execution_count": null,
   "metadata": {},
   "outputs": [],
   "source": [
    "# Read New Mexico county shapefile from \"NM_county.shp\"\n",
    "filename = 'NM_county.shp'\n",
    "\n",
    "# Read geopandas dataframe from file\n",
    "df = gpd.read_file( filename )"
   ]
  },
  {
   "cell_type": "code",
   "execution_count": null,
   "metadata": {},
   "outputs": [],
   "source": [
    "import matplotlib.pyplot as plt\n",
    "\n",
    "def export_to_png(G, df, districts, filename):\n",
    "    \n",
    "    assignment = [ -1 for u in G.nodes ]\n",
    "    \n",
    "    for j in range(len(districts)):\n",
    "        for i in districts[j]:\n",
    "            geoID = G.nodes[i][\"GEOID10\"]\n",
    "            for u in G.nodes:\n",
    "                if geoID == df['GEOID10'][u]:\n",
    "                    assignment[u] = j\n",
    "    \n",
    "    if min(assignment[v] for v in G.nodes) < 0:\n",
    "        print(\"Error: did not assign all nodes in district map png.\")\n",
    "    else:\n",
    "        df['assignment'] = assignment\n",
    "        my_fig = df.plot(column='assignment').get_figure()\n",
    "        RESIZE_FACTOR = 3\n",
    "        my_fig.set_size_inches(my_fig.get_size_inches()*RESIZE_FACTOR)\n",
    "        plt.axis('off')\n",
    "        my_fig.savefig(filename)\n",
    "        plt.close(my_fig)"
   ]
  },
  {
   "cell_type": "code",
   "execution_count": null,
   "metadata": {},
   "outputs": [],
   "source": [
    "# retrieve and map each solution\n",
    "\n",
    "all_plans = list()\n",
    "\n",
    "for sol in range(m.SolCount):\n",
    "    m.Params.SolutionNumber = sol\n",
    "    districts = [ [i for i in G.nodes if m._X[i,j].Xn > 0.5] for j in range(k) ]\n",
    "    \n",
    "    filename = 'NM-' + str(f\"{sol+1:04d}\") + '.png'\n",
    "    export_to_png(G, df, districts, filename)\n",
    "    \n",
    "    all_plans.append(districts)\n",
    "    \n",
    "print(all_plans)\n",
    "print(\"Number of plans =\",len(all_plans))"
   ]
  }
 ],
 "metadata": {
  "kernelspec": {
   "display_name": "Python 3",
   "language": "python",
   "name": "python3"
  },
  "language_info": {
   "codemirror_mode": {
    "name": "ipython",
    "version": 3
   },
   "file_extension": ".py",
   "mimetype": "text/x-python",
   "name": "python",
   "nbconvert_exporter": "python",
   "pygments_lexer": "ipython3",
   "version": "3.7.10"
  }
 },
 "nbformat": 4,
 "nbformat_minor": 4
}
